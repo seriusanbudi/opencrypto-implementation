{
 "cells": [
  {
   "cell_type": "code",
   "execution_count": 8,
   "metadata": {},
   "outputs": [],
   "source": [
    "from open_crypto import runner\n",
    "import sqlite3 \n",
    "import pandas as pd\n",
    "import datetime\n",
    "\n",
    "con = sqlite3.connect(\"amkt_data.db\")\n",
    "cur_time = datetime.datetime.now()\n",
    "\n",
    "def calculate_depth(database, exchange, range): #depths are calculated in BPS\n",
    "    range = range / 100 #convert to kBPS (1000BPS = 1KBPS)\n",
    "    #get midprice of the last range of trades\n",
    "    price = prices.loc[prices['exchange'] == exchange, 'price'].item()\n",
    "\n",
    "    #calculate depth boundaries\n",
    "    depth_asks = price * (1 + range)\n",
    "    depth_bids = price - (price * range)\n",
    "\n",
    "    #get trades within the depth boundaries\n",
    "    trades = database.loc[(database['bids_price'] > depth_bids) & (database['asks_price'] < depth_asks)]\n",
    "    trades = trades.assign(**{'price': trades['bids_price'].fillna(trades['asks_price'])})\n",
    "    \n",
    "\n",
    "    #calculate depth\n",
    "    depth = trades['price'].std()\n",
    "\n",
    "    return depth\n",
    "\n",
    "def calculate_spread(database, exchange):\n",
    "    #get midprice of the last range of trades\n",
    "    bidmaxprice = database.loc[database['exchange'] == exchange, 'bids_price'].max()\n",
    "    askminprice = database.loc[database['exchange'] == exchange, 'asks_price'].min()\n",
    "\n",
    "    #calculate spread\n",
    "    spread = bidmaxprice - askminprice\n",
    "\n",
    "    return spread\n",
    "\n",
    "def fetch_data():\n",
    "    for exchange in orderbook['exchange'].unique():\n",
    "        depth_val_50 = calculate_depth(orderbook, exchange, 50)\n",
    "        depth_val_100 = calculate_depth(orderbook, exchange, 100)\n",
    "        depth_val_150 = calculate_depth(orderbook, exchange, 150)\n",
    "        depth_val_200 = calculate_depth(orderbook, exchange, 200)\n",
    "        spread = calculate_spread(orderbook, exchange)\n",
    "        depth_val_50_USD = depth_val_50 * prices.loc[prices['exchange'] == exchange, 'price'].item()\n",
    "        depth_val_100_USD = depth_val_100 * prices.loc[prices['exchange'] == exchange, 'price'].item()\n",
    "        depth_val_150_USD = depth_val_150 * prices.loc[prices['exchange'] == exchange, 'price'].item()\n",
    "        depth_val_200_USD = depth_val_200 * prices.loc[prices['exchange'] == exchange, 'price'].item()\n",
    "        row = [exchange, prices.loc[prices['exchange'] == exchange, 'price'].item(), spread, depth_val_50, depth_val_50_USD, depth_val_100, depth_val_100_USD, depth_val_150, depth_val_150_USD, depth_val_200, depth_val_200_USD, cur_time] \n",
    "        depth_db.loc[len(depth_db)] = row"
   ]
  },
  {
   "cell_type": "code",
   "execution_count": 9,
   "metadata": {},
   "outputs": [
    {
     "name": "stdout",
     "output_type": "stream",
     "text": [
      "Requesting 1 exchange(s) for job: orderbook.                                    \n",
      "Requesting 1 exchange(s) for job: tickers.\n",
      "Requesting data... -                                                            Terminating.\n",
      "Pair-ID 389 - Coinbase: 1000 tuple(s)                                           \n",
      "Terminating.\n"
     ]
    }
   ],
   "source": [
    "runner.run('amkt.yaml')"
   ]
  },
  {
   "cell_type": "code",
   "execution_count": 10,
   "metadata": {},
   "outputs": [],
   "source": [
    "# read data from db\n",
    "orderbook = pd.read_sql_query('SELECT * FROM order_books_view;', con)\n",
    "prices = pd.read_sql_query('SELECT exchange, MAX(price) AS price FROM trades_view GROUP BY exchange;', con)"
   ]
  },
  {
   "cell_type": "code",
   "execution_count": 11,
   "metadata": {},
   "outputs": [],
   "source": [
    "depth_db = pd.DataFrame(columns=['exchange', 'mid price', 'spread', 'depth 50 bps','depth 50 USD', 'depth 100 bps','depth 100 USD', 'depth 150 bps','depth 150 USD','depth 200 bps','depth 200 USD', 'time'])"
   ]
  },
  {
   "cell_type": "code",
   "execution_count": 12,
   "metadata": {},
   "outputs": [
    {
     "data": {
      "text/html": [
       "<div>\n",
       "<style scoped>\n",
       "    .dataframe tbody tr th:only-of-type {\n",
       "        vertical-align: middle;\n",
       "    }\n",
       "\n",
       "    .dataframe tbody tr th {\n",
       "        vertical-align: top;\n",
       "    }\n",
       "\n",
       "    .dataframe thead th {\n",
       "        text-align: right;\n",
       "    }\n",
       "</style>\n",
       "<table border=\"1\" class=\"dataframe\">\n",
       "  <thead>\n",
       "    <tr style=\"text-align: right;\">\n",
       "      <th></th>\n",
       "      <th>exchange</th>\n",
       "      <th>mid price</th>\n",
       "      <th>spread</th>\n",
       "      <th>depth 50 bps</th>\n",
       "      <th>depth 50 USD</th>\n",
       "      <th>depth 100 bps</th>\n",
       "      <th>depth 100 USD</th>\n",
       "      <th>depth 150 bps</th>\n",
       "      <th>depth 150 USD</th>\n",
       "      <th>depth 200 bps</th>\n",
       "      <th>depth 200 USD</th>\n",
       "      <th>time</th>\n",
       "    </tr>\n",
       "  </thead>\n",
       "  <tbody>\n",
       "  </tbody>\n",
       "</table>\n",
       "</div>"
      ],
      "text/plain": [
       "Empty DataFrame\n",
       "Columns: [exchange, mid price, spread, depth 50 bps, depth 50 USD, depth 100 bps, depth 100 USD, depth 150 bps, depth 150 USD, depth 200 bps, depth 200 USD, time]\n",
       "Index: []"
      ]
     },
     "execution_count": 12,
     "metadata": {},
     "output_type": "execute_result"
    }
   ],
   "source": [
    "fetch_data()\n",
    "\n",
    "depth_db"
   ]
  }
 ],
 "metadata": {
  "kernelspec": {
   "display_name": "Python 3",
   "language": "python",
   "name": "python3"
  },
  "language_info": {
   "codemirror_mode": {
    "name": "ipython",
    "version": 3
   },
   "file_extension": ".py",
   "mimetype": "text/x-python",
   "name": "python",
   "nbconvert_exporter": "python",
   "pygments_lexer": "ipython3",
   "version": "3.11.1"
  },
  "orig_nbformat": 4,
  "vscode": {
   "interpreter": {
    "hash": "aee8b7b246df8f9039afb4144a1f6fd8d2ca17a180786b69acc140d282b71a49"
   }
  }
 },
 "nbformat": 4,
 "nbformat_minor": 2
}
